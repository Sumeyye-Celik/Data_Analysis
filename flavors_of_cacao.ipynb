{
  "nbformat": 4,
  "nbformat_minor": 0,
  "metadata": {
    "colab": {
      "provenance": [],
      "authorship_tag": "ABX9TyNrzCFbq1dhcRAQ9Nt1H8Rm"
    },
    "kernelspec": {
      "name": "python3",
      "display_name": "Python 3"
    },
    "language_info": {
      "name": "python"
    }
  },
  "cells": [
    {
      "cell_type": "code",
      "execution_count": 2,
      "metadata": {
        "id": "wOhLYuNLvZd8"
      },
      "outputs": [],
      "source": [
        "import numpy as np\n",
        "import pandas as pd\n",
        "import matplotlib.pyplot as plt\n",
        "%matplotlib inline"
      ]
    },
    {
      "cell_type": "code",
      "source": [
        "data = pd.read_csv(\"/content/flavors_cacao.csv\")"
      ],
      "metadata": {
        "id": "YWjhxZw1ve4T"
      },
      "execution_count": 19,
      "outputs": []
    },
    {
      "cell_type": "code",
      "source": [
        "data.head()"
      ],
      "metadata": {
        "colab": {
          "base_uri": "https://localhost:8080/",
          "height": 337
        },
        "id": "7LQmm663vqtL",
        "outputId": "02849f4d-6be2-40db-b1a8-ef2ace2f2fd1"
      },
      "execution_count": 4,
      "outputs": [
        {
          "output_type": "execute_result",
          "data": {
            "text/plain": [
              "    REF Company (Manufacturer) Company Location  Review Date  \\\n",
              "0  2542                   5150           U.S.A.         2021   \n",
              "1  2546                   5150           U.S.A.         2021   \n",
              "2  2542                   5150           U.S.A.         2021   \n",
              "3  2546                   5150           U.S.A.         2021   \n",
              "4  2454                   5150           U.S.A.         2019   \n",
              "\n",
              "  Country of Bean Origin Specific Bean Origin or Bar Name Cocoa Percent  \\\n",
              "0                  India                Anamalai, batch 1          0.68   \n",
              "1                 Uganda         Semuliki Forest, batch 1           0.8   \n",
              "2                   Fiji            Matasawalevu, batch 1          0.68   \n",
              "3              Venezuela            Sur del Lago, batch 1          0.72   \n",
              "4             Madagascar           Bejofo Estate, batch 1          0.76   \n",
              "\n",
              "  Ingredients     Most Memorable Characteristics  Rating  \n",
              "0    3- B,S,C      milk brownie, macadamia,chewy    3.50  \n",
              "1    3- B,S,C  mildly bitter, basic cocoa, fatty    3.25  \n",
              "2    3- B,S,C                chewy, off, rubbery    3.00  \n",
              "3    3- B,S,C  fatty, earthy, moss, nutty,chalky    3.00  \n",
              "4    3- B,S,C       cocoa, blackberry, full body    3.75  "
            ],
            "text/html": [
              "\n",
              "  <div id=\"df-82aba906-2f8a-48d2-b6b7-cf9f3bef7904\">\n",
              "    <div class=\"colab-df-container\">\n",
              "      <div>\n",
              "<style scoped>\n",
              "    .dataframe tbody tr th:only-of-type {\n",
              "        vertical-align: middle;\n",
              "    }\n",
              "\n",
              "    .dataframe tbody tr th {\n",
              "        vertical-align: top;\n",
              "    }\n",
              "\n",
              "    .dataframe thead th {\n",
              "        text-align: right;\n",
              "    }\n",
              "</style>\n",
              "<table border=\"1\" class=\"dataframe\">\n",
              "  <thead>\n",
              "    <tr style=\"text-align: right;\">\n",
              "      <th></th>\n",
              "      <th>REF</th>\n",
              "      <th>Company (Manufacturer)</th>\n",
              "      <th>Company Location</th>\n",
              "      <th>Review Date</th>\n",
              "      <th>Country of Bean Origin</th>\n",
              "      <th>Specific Bean Origin or Bar Name</th>\n",
              "      <th>Cocoa Percent</th>\n",
              "      <th>Ingredients</th>\n",
              "      <th>Most Memorable Characteristics</th>\n",
              "      <th>Rating</th>\n",
              "    </tr>\n",
              "  </thead>\n",
              "  <tbody>\n",
              "    <tr>\n",
              "      <th>0</th>\n",
              "      <td>2542</td>\n",
              "      <td>5150</td>\n",
              "      <td>U.S.A.</td>\n",
              "      <td>2021</td>\n",
              "      <td>India</td>\n",
              "      <td>Anamalai, batch 1</td>\n",
              "      <td>0.68</td>\n",
              "      <td>3- B,S,C</td>\n",
              "      <td>milk brownie, macadamia,chewy</td>\n",
              "      <td>3.50</td>\n",
              "    </tr>\n",
              "    <tr>\n",
              "      <th>1</th>\n",
              "      <td>2546</td>\n",
              "      <td>5150</td>\n",
              "      <td>U.S.A.</td>\n",
              "      <td>2021</td>\n",
              "      <td>Uganda</td>\n",
              "      <td>Semuliki Forest, batch 1</td>\n",
              "      <td>0.8</td>\n",
              "      <td>3- B,S,C</td>\n",
              "      <td>mildly bitter, basic cocoa, fatty</td>\n",
              "      <td>3.25</td>\n",
              "    </tr>\n",
              "    <tr>\n",
              "      <th>2</th>\n",
              "      <td>2542</td>\n",
              "      <td>5150</td>\n",
              "      <td>U.S.A.</td>\n",
              "      <td>2021</td>\n",
              "      <td>Fiji</td>\n",
              "      <td>Matasawalevu, batch 1</td>\n",
              "      <td>0.68</td>\n",
              "      <td>3- B,S,C</td>\n",
              "      <td>chewy, off, rubbery</td>\n",
              "      <td>3.00</td>\n",
              "    </tr>\n",
              "    <tr>\n",
              "      <th>3</th>\n",
              "      <td>2546</td>\n",
              "      <td>5150</td>\n",
              "      <td>U.S.A.</td>\n",
              "      <td>2021</td>\n",
              "      <td>Venezuela</td>\n",
              "      <td>Sur del Lago, batch 1</td>\n",
              "      <td>0.72</td>\n",
              "      <td>3- B,S,C</td>\n",
              "      <td>fatty, earthy, moss, nutty,chalky</td>\n",
              "      <td>3.00</td>\n",
              "    </tr>\n",
              "    <tr>\n",
              "      <th>4</th>\n",
              "      <td>2454</td>\n",
              "      <td>5150</td>\n",
              "      <td>U.S.A.</td>\n",
              "      <td>2019</td>\n",
              "      <td>Madagascar</td>\n",
              "      <td>Bejofo Estate, batch 1</td>\n",
              "      <td>0.76</td>\n",
              "      <td>3- B,S,C</td>\n",
              "      <td>cocoa, blackberry, full body</td>\n",
              "      <td>3.75</td>\n",
              "    </tr>\n",
              "  </tbody>\n",
              "</table>\n",
              "</div>\n",
              "      <button class=\"colab-df-convert\" onclick=\"convertToInteractive('df-82aba906-2f8a-48d2-b6b7-cf9f3bef7904')\"\n",
              "              title=\"Convert this dataframe to an interactive table.\"\n",
              "              style=\"display:none;\">\n",
              "        \n",
              "  <svg xmlns=\"http://www.w3.org/2000/svg\" height=\"24px\"viewBox=\"0 0 24 24\"\n",
              "       width=\"24px\">\n",
              "    <path d=\"M0 0h24v24H0V0z\" fill=\"none\"/>\n",
              "    <path d=\"M18.56 5.44l.94 2.06.94-2.06 2.06-.94-2.06-.94-.94-2.06-.94 2.06-2.06.94zm-11 1L8.5 8.5l.94-2.06 2.06-.94-2.06-.94L8.5 2.5l-.94 2.06-2.06.94zm10 10l.94 2.06.94-2.06 2.06-.94-2.06-.94-.94-2.06-.94 2.06-2.06.94z\"/><path d=\"M17.41 7.96l-1.37-1.37c-.4-.4-.92-.59-1.43-.59-.52 0-1.04.2-1.43.59L10.3 9.45l-7.72 7.72c-.78.78-.78 2.05 0 2.83L4 21.41c.39.39.9.59 1.41.59.51 0 1.02-.2 1.41-.59l7.78-7.78 2.81-2.81c.8-.78.8-2.07 0-2.86zM5.41 20L4 18.59l7.72-7.72 1.47 1.35L5.41 20z\"/>\n",
              "  </svg>\n",
              "      </button>\n",
              "      \n",
              "  <style>\n",
              "    .colab-df-container {\n",
              "      display:flex;\n",
              "      flex-wrap:wrap;\n",
              "      gap: 12px;\n",
              "    }\n",
              "\n",
              "    .colab-df-convert {\n",
              "      background-color: #E8F0FE;\n",
              "      border: none;\n",
              "      border-radius: 50%;\n",
              "      cursor: pointer;\n",
              "      display: none;\n",
              "      fill: #1967D2;\n",
              "      height: 32px;\n",
              "      padding: 0 0 0 0;\n",
              "      width: 32px;\n",
              "    }\n",
              "\n",
              "    .colab-df-convert:hover {\n",
              "      background-color: #E2EBFA;\n",
              "      box-shadow: 0px 1px 2px rgba(60, 64, 67, 0.3), 0px 1px 3px 1px rgba(60, 64, 67, 0.15);\n",
              "      fill: #174EA6;\n",
              "    }\n",
              "\n",
              "    [theme=dark] .colab-df-convert {\n",
              "      background-color: #3B4455;\n",
              "      fill: #D2E3FC;\n",
              "    }\n",
              "\n",
              "    [theme=dark] .colab-df-convert:hover {\n",
              "      background-color: #434B5C;\n",
              "      box-shadow: 0px 1px 3px 1px rgba(0, 0, 0, 0.15);\n",
              "      filter: drop-shadow(0px 1px 2px rgba(0, 0, 0, 0.3));\n",
              "      fill: #FFFFFF;\n",
              "    }\n",
              "  </style>\n",
              "\n",
              "      <script>\n",
              "        const buttonEl =\n",
              "          document.querySelector('#df-82aba906-2f8a-48d2-b6b7-cf9f3bef7904 button.colab-df-convert');\n",
              "        buttonEl.style.display =\n",
              "          google.colab.kernel.accessAllowed ? 'block' : 'none';\n",
              "\n",
              "        async function convertToInteractive(key) {\n",
              "          const element = document.querySelector('#df-82aba906-2f8a-48d2-b6b7-cf9f3bef7904');\n",
              "          const dataTable =\n",
              "            await google.colab.kernel.invokeFunction('convertToInteractive',\n",
              "                                                     [key], {});\n",
              "          if (!dataTable) return;\n",
              "\n",
              "          const docLinkHtml = 'Like what you see? Visit the ' +\n",
              "            '<a target=\"_blank\" href=https://colab.research.google.com/notebooks/data_table.ipynb>data table notebook</a>'\n",
              "            + ' to learn more about interactive tables.';\n",
              "          element.innerHTML = '';\n",
              "          dataTable['output_type'] = 'display_data';\n",
              "          await google.colab.output.renderOutput(dataTable, element);\n",
              "          const docLink = document.createElement('div');\n",
              "          docLink.innerHTML = docLinkHtml;\n",
              "          element.appendChild(docLink);\n",
              "        }\n",
              "      </script>\n",
              "    </div>\n",
              "  </div>\n",
              "  "
            ]
          },
          "metadata": {},
          "execution_count": 4
        }
      ]
    },
    {
      "cell_type": "markdown",
      "source": [
        "# Veri setini inceleyelim"
      ],
      "metadata": {
        "id": "2uSwIQMTv-pe"
      }
    },
    {
      "cell_type": "code",
      "source": [
        "def check_data(df, row_num=5):\n",
        "    print(\"--------------- Dataset Shape ---------------\")\n",
        "    print(\"No. of Rows:\", df.shape[0], \"\\nNo. of Columns:\", df.shape[1])\n",
        "    print(\"--------------- Dataset Information ---------------\")\n",
        "    print(df.info())\n",
        "    print(\"--------------- Types of Columns ---------------\")\n",
        "    print(df.dtypes)\n",
        "    print(f\"--------------- First {row_num} Rows ---------------\")\n",
        "    print(df.head(row_num))\n",
        "    print(f\"--------------- Last {row_num} Rows ---------------\")\n",
        "    print(df.tail(row_num))\n",
        "    print(\"--------------- Summary Statistics of The Dataset ---------------\")\n",
        "    print(df.describe().T)\n",
        "    print(\"--------------- Dataset Missing Values Analysis ---------------\")\n",
        "    print(df.isnull().sum())"
      ],
      "metadata": {
        "id": "qr26WzBWvuLw"
      },
      "execution_count": 5,
      "outputs": []
    },
    {
      "cell_type": "code",
      "source": [
        "check_data(data)"
      ],
      "metadata": {
        "colab": {
          "base_uri": "https://localhost:8080/"
        },
        "id": "X1iySKL6v3j4",
        "outputId": "3b631ad2-0d01-4368-ab7d-d22196baa45f"
      },
      "execution_count": 6,
      "outputs": [
        {
          "output_type": "stream",
          "name": "stdout",
          "text": [
            "--------------- Dataset Shape ---------------\n",
            "No. of Rows: 2632 \n",
            "No. of Columns: 10\n",
            "--------------- Dataset Information ---------------\n",
            "<class 'pandas.core.frame.DataFrame'>\n",
            "RangeIndex: 2632 entries, 0 to 2631\n",
            "Data columns (total 10 columns):\n",
            " #   Column                            Non-Null Count  Dtype  \n",
            "---  ------                            --------------  -----  \n",
            " 0   REF                               2632 non-null   int64  \n",
            " 1   Company (Manufacturer)            2632 non-null   object \n",
            " 2   Company Location                  2632 non-null   object \n",
            " 3   Review Date                       2632 non-null   int64  \n",
            " 4   Country of Bean Origin            2632 non-null   object \n",
            " 5   Specific Bean Origin or Bar Name  2632 non-null   object \n",
            " 6   Cocoa Percent                     2632 non-null   object \n",
            " 7   Ingredients                       2632 non-null   object \n",
            " 8   Most Memorable Characteristics    2632 non-null   object \n",
            " 9   Rating                            2632 non-null   float64\n",
            "dtypes: float64(1), int64(2), object(7)\n",
            "memory usage: 205.8+ KB\n",
            "None\n",
            "--------------- Types of Columns ---------------\n",
            "REF                                   int64\n",
            "Company (Manufacturer)               object\n",
            "Company Location                     object\n",
            "Review Date                           int64\n",
            "Country of Bean Origin               object\n",
            "Specific Bean Origin or Bar Name     object\n",
            "Cocoa Percent                        object\n",
            "Ingredients                          object\n",
            "Most Memorable Characteristics       object\n",
            "Rating                              float64\n",
            "dtype: object\n",
            "--------------- First 5 Rows ---------------\n",
            "    REF Company (Manufacturer) Company Location  Review Date  \\\n",
            "0  2542                   5150           U.S.A.         2021   \n",
            "1  2546                   5150           U.S.A.         2021   \n",
            "2  2542                   5150           U.S.A.         2021   \n",
            "3  2546                   5150           U.S.A.         2021   \n",
            "4  2454                   5150           U.S.A.         2019   \n",
            "\n",
            "  Country of Bean Origin Specific Bean Origin or Bar Name Cocoa Percent  \\\n",
            "0                  India                Anamalai, batch 1          0.68   \n",
            "1                 Uganda         Semuliki Forest, batch 1           0.8   \n",
            "2                   Fiji            Matasawalevu, batch 1          0.68   \n",
            "3              Venezuela            Sur del Lago, batch 1          0.72   \n",
            "4             Madagascar           Bejofo Estate, batch 1          0.76   \n",
            "\n",
            "  Ingredients     Most Memorable Characteristics  Rating  \n",
            "0    3- B,S,C      milk brownie, macadamia,chewy    3.50  \n",
            "1    3- B,S,C  mildly bitter, basic cocoa, fatty    3.25  \n",
            "2    3- B,S,C                chewy, off, rubbery    3.00  \n",
            "3    3- B,S,C  fatty, earthy, moss, nutty,chalky    3.00  \n",
            "4    3- B,S,C       cocoa, blackberry, full body    3.75  \n",
            "--------------- Last 5 Rows ---------------\n",
            "      REF Company (Manufacturer) Company Location  Review Date  \\\n",
            "2627  647                 Zotter          Austria         2011   \n",
            "2628  749                 Zotter          Austria         2011   \n",
            "2629  781                 Zotter          Austria         2011   \n",
            "2630  749                 Zotter          Austria         2011   \n",
            "2631  486                 Zotter          Austria         2010   \n",
            "\n",
            "     Country of Bean Origin Specific Bean Origin or Bar Name Cocoa Percent  \\\n",
            "2627                   Peru                             Peru           0.7   \n",
            "2628                  India                     Kerala State          0.65   \n",
            "2629                  India                     Kerala State          0.62   \n",
            "2630                  Congo                            Congo          0.65   \n",
            "2631                 Brazil               Brazil, Mitzi Blue          0.65   \n",
            "\n",
            "       Ingredients Most Memorable Characteristics  Rating  \n",
            "2627  4- B,S*,C,Sa      creamy, fatty, mild nutty    3.75  \n",
            "2628  4- B,S*,C,Sa      creamy, masculine, earthy    3.50  \n",
            "2629  4- B,S*,C,Sa   oily, subdued, caramel, salt    3.25  \n",
            "2630  4- B,S*,C,Sa           dairy, salt, caramel    3.00  \n",
            "2631  4- B,S*,C,Sa            woody, butterscotch    3.00  \n",
            "--------------- Summary Statistics of The Dataset ---------------\n",
            "              count         mean         std     min     25%      50%     75%  \\\n",
            "REF          2632.0  1481.466565  786.159140     5.0   829.0  1494.00  2154.0   \n",
            "Review Date  2632.0  2014.669833    4.159774  2006.0  2012.0  2015.00  2018.0   \n",
            "Rating       2632.0     3.198518    0.443083     1.0     3.0     3.25     3.5   \n",
            "\n",
            "                max  \n",
            "REF          2812.0  \n",
            "Review Date  2022.0  \n",
            "Rating          4.0  \n",
            "--------------- Dataset Missing Values Analysis ---------------\n",
            "REF                                 0\n",
            "Company (Manufacturer)              0\n",
            "Company Location                    0\n",
            "Review Date                         0\n",
            "Country of Bean Origin              0\n",
            "Specific Bean Origin or Bar Name    0\n",
            "Cocoa Percent                       0\n",
            "Ingredients                         0\n",
            "Most Memorable Characteristics      0\n",
            "Rating                              0\n",
            "dtype: int64\n"
          ]
        }
      ]
    },
    {
      "cell_type": "markdown",
      "source": [
        "1. Ülkelerin (şirketin lokasyonuna göre) sahip olduğu şirket sayılarını bulunuz."
      ],
      "metadata": {
        "id": "BivUewBMw-2H"
      }
    },
    {
      "cell_type": "code",
      "source": [
        "company_sm = data.groupby(\"Company Location\").nunique()[\"Company (Manufacturer)\"].sort_values(ascending=False)\n",
        "company_sm.head(10)"
      ],
      "metadata": {
        "colab": {
          "base_uri": "https://localhost:8080/"
        },
        "id": "QrT1OFeMzUwW",
        "outputId": "dcbf3dda-5af6-4f3f-b263-4a60d24a6785"
      },
      "execution_count": 7,
      "outputs": [
        {
          "output_type": "execute_result",
          "data": {
            "text/plain": [
              "Company Location\n",
              "U.S.A.       261\n",
              "Canada        32\n",
              "U.K.          30\n",
              "France        29\n",
              "Ecuador       17\n",
              "Belgium       16\n",
              "Italy         13\n",
              "Japan         12\n",
              "Australia     12\n",
              "Peru          11\n",
              "Name: Company (Manufacturer), dtype: int64"
            ]
          },
          "metadata": {},
          "execution_count": 7
        }
      ]
    },
    {
      "cell_type": "markdown",
      "source": [
        "2. Ülkelerin (şirketin lokasyonuna göre) sahip olduğu bar sayılarını bulunuz.\n"
      ],
      "metadata": {
        "id": "zTi_NaAaz0vs"
      }
    },
    {
      "cell_type": "code",
      "source": [
        "company_bar =  data.groupby(\"Company Location\").count()[\"Specific Bean Origin or Bar Name\"].sort_values(ascending=False)\n",
        "company_bar.head(10)"
      ],
      "metadata": {
        "colab": {
          "base_uri": "https://localhost:8080/"
        },
        "id": "e85j5N_w2xDs",
        "outputId": "112e8d63-bcaa-4218-cc68-11a0efc926ce"
      },
      "execution_count": 8,
      "outputs": [
        {
          "output_type": "execute_result",
          "data": {
            "text/plain": [
              "Company Location\n",
              "U.S.A.         1193\n",
              "France          186\n",
              "Canada          178\n",
              "U.K.            135\n",
              "Italy            83\n",
              "Belgium          72\n",
              "Ecuador          58\n",
              "Australia        53\n",
              "Switzerland      44\n",
              "Germany          43\n",
              "Name: Specific Bean Origin or Bar Name, dtype: int64"
            ]
          },
          "metadata": {},
          "execution_count": 8
        }
      ]
    },
    {
      "cell_type": "markdown",
      "source": [
        "3. Ülke kökenine göre ortalama puanı hesaplayınız?"
      ],
      "metadata": {
        "id": "0NcDMcpM3Owg"
      }
    },
    {
      "cell_type": "code",
      "source": [
        "#data.groupby(\"Country of Bean Origin\").mean()[\"Rating\"].sort_values(ascending=False).head() # En yüksek puanı alandan en aza alana sıralar\n",
        "mean_rating = data.groupby([\"Country of Bean Origin\"]).mean(numeric_only=True)[\"Rating\"]\n",
        "mean_rating.head(10)"
      ],
      "metadata": {
        "colab": {
          "base_uri": "https://localhost:8080/"
        },
        "id": "o6hsaMKA1K-P",
        "outputId": "df8974dd-1b93-4cf3-b8f7-c832a18e7e08"
      },
      "execution_count": 20,
      "outputs": [
        {
          "output_type": "execute_result",
          "data": {
            "text/plain": [
              "Country of Bean Origin\n",
              "Australia    3.250000\n",
              "Bali         2.500000\n",
              "Belize       3.243827\n",
              "Blend        3.038462\n",
              "Bolivia      3.171687\n",
              "Brazil       3.262346\n",
              "Burma        3.000000\n",
              "Cameroon     2.875000\n",
              "China        3.500000\n",
              "Colombia     3.207317\n",
              "Name: Rating, dtype: float64"
            ]
          },
          "metadata": {},
          "execution_count": 20
        }
      ]
    },
    {
      "cell_type": "markdown",
      "source": [
        "4. En fazla inceleme hangi yılda yapılmıştır?\n"
      ],
      "metadata": {
        "id": "O9rQvLt85HrV"
      }
    },
    {
      "cell_type": "code",
      "source": [
        "review_max = data[\"Review Date\"].value_counts()[data['Review Date'].value_counts() == data['Review Date'].value_counts().max()]\n",
        "review_max"
      ],
      "metadata": {
        "colab": {
          "base_uri": "https://localhost:8080/"
        },
        "id": "unoi-x3B4qml",
        "outputId": "07b3e71f-cc41-4ff6-952d-76bdf61296d3"
      },
      "execution_count": 10,
      "outputs": [
        {
          "output_type": "execute_result",
          "data": {
            "text/plain": [
              "2015    284\n",
              "Name: Review Date, dtype: int64"
            ]
          },
          "metadata": {},
          "execution_count": 10
        }
      ]
    },
    {
      "cell_type": "markdown",
      "source": [
        "5. En az inceleme hangi yılda yapılmıştır?"
      ],
      "metadata": {
        "id": "lt7m_4hM7MT2"
      }
    },
    {
      "cell_type": "code",
      "source": [
        "review_min =  data[\"Review Date\"].value_counts()[data['Review Date'].value_counts() == data['Review Date'].value_counts().min()]\n",
        "review_min"
      ],
      "metadata": {
        "colab": {
          "base_uri": "https://localhost:8080/"
        },
        "id": "a7WcDZCB5wrx",
        "outputId": "9b3d0309-ca32-4e91-c43a-3189ec078109"
      },
      "execution_count": 11,
      "outputs": [
        {
          "output_type": "execute_result",
          "data": {
            "text/plain": [
              "2006    62\n",
              "Name: Review Date, dtype: int64"
            ]
          },
          "metadata": {},
          "execution_count": 11
        }
      ]
    },
    {
      "cell_type": "markdown",
      "source": [
        "6. Kakao çekirdeğinin kökeni kalitenin bir göstergesi midir?"
      ],
      "metadata": {
        "id": "CPDOJGii9gLs"
      }
    },
    {
      "cell_type": "code",
      "source": [
        "data['Cocoa Percent'] = data['Cocoa Percent'].str.replace('%', '').astype(float)"
      ],
      "metadata": {
        "id": "KBoxZGn49pU9"
      },
      "execution_count": 12,
      "outputs": []
    },
    {
      "cell_type": "code",
      "source": [
        "cacao_rating = data.groupby('Country of Bean Origin')['Rating'].max().nlargest(10).index\n",
        "percent_rating = data.groupby('Country of Bean Origin')['Cocoa Percent'].max().loc[cacao_rating].sort_values(ascending=False)\n",
        "percent_rating"
      ],
      "metadata": {
        "colab": {
          "base_uri": "https://localhost:8080/"
        },
        "id": "spNj24AtYYAA",
        "outputId": "ad11e14d-931a-4f24-f439-410a288a1f47"
      },
      "execution_count": 13,
      "outputs": [
        {
          "output_type": "execute_result",
          "data": {
            "text/plain": [
              "Country of Bean Origin\n",
              "Blend                 73.50\n",
              "Dominican Republic    72.50\n",
              "Ecuador               72.50\n",
              "Belize                 0.90\n",
              "Bolivia                0.90\n",
              "Colombia               0.88\n",
              "Brazil                 0.85\n",
              "Ghana                  0.85\n",
              "Costa Rica             0.82\n",
              "Guatemala              0.82\n",
              "Name: Cocoa Percent, dtype: float64"
            ]
          },
          "metadata": {},
          "execution_count": 13
        }
      ]
    },
    {
      "cell_type": "code",
      "source": [
        "percent_mean = data.groupby('Country of Bean Origin')['Cocoa Percent'].max().nlargest(10).index\n",
        "rating_percent = data.groupby('Country of Bean Origin')['Rating'].max().loc[cacao_rating].sort_values(ascending=False)\n",
        "rating_percent"
      ],
      "metadata": {
        "colab": {
          "base_uri": "https://localhost:8080/"
        },
        "id": "_2PGzY7iu8a2",
        "outputId": "ec394cc7-e1fe-4a24-e553-f75b218ce8d5"
      },
      "execution_count": 14,
      "outputs": [
        {
          "output_type": "execute_result",
          "data": {
            "text/plain": [
              "Country of Bean Origin\n",
              "Belize                4.0\n",
              "Blend                 4.0\n",
              "Bolivia               4.0\n",
              "Brazil                4.0\n",
              "Colombia              4.0\n",
              "Costa Rica            4.0\n",
              "Dominican Republic    4.0\n",
              "Ecuador               4.0\n",
              "Ghana                 4.0\n",
              "Guatemala             4.0\n",
              "Name: Rating, dtype: float64"
            ]
          },
          "metadata": {},
          "execution_count": 14
        }
      ]
    },
    {
      "cell_type": "markdown",
      "source": [
        "7. Kakao çekirdekleri genellikle nerelerden gelmektedir?"
      ],
      "metadata": {
        "id": "x5bOw5J8pKn0"
      }
    },
    {
      "cell_type": "code",
      "source": [
        "bean_count = data[\"Country of Bean Origin\"].value_counts()\n",
        "\n",
        "plt.figure(figsize=(12, 6))\n",
        "bean_count.plot(kind=\"line\", marker=\"o\", linestyle=\"-\")\n",
        "plt.title(\"Kakao Çekirdeği Kaynaklarına Göre Ülkeler\")\n",
        "plt.xlabel(\"Ülkeler\")\n",
        "plt.ylabel(\"Sayı\")\n",
        "plt.xticks(range(len(bean_count)), bean_count.index, rotation=90)\n",
        "plt.tight_layout()\n",
        "plt.show()"
      ],
      "metadata": {
        "id": "3VB2KpA0ioke",
        "colab": {
          "base_uri": "https://localhost:8080/",
          "height": 569
        },
        "outputId": "f4f7790e-a954-4aed-c414-b14a126dcb50"
      },
      "execution_count": 15,
      "outputs": [
        {
          "output_type": "display_data",
          "data": {
            "text/plain": [
              "<Figure size 1200x600 with 1 Axes>"
            ],
            "image/png": "[encoded data removed]"
          },
          "metadata": {}
        }
      ]
    },
    {
      "cell_type": "markdown",
      "source": [
        "Kakao çekirdeklerinin genellikle Venezuela, Peru, Dominik Cumhuriyeti, Ekvador ve Madagaskar geldiğini söyleyebiliriz."
      ],
      "metadata": {
        "id": "-8gNakyjbfpY"
      }
    },
    {
      "cell_type": "markdown",
      "source": [
        "8. Araştırmanız bazı tüketicilerin lesitin içeren barlardan kaçınmak istediğini gösteriyor. Lesitin içeren ve\n",
        "içermeyen barların ortalama puanını karşılaştırın (İçerikte \"L\" olanlar)."
      ],
      "metadata": {
        "id": "2iRKyA4gcJPj"
      }
    },
    {
      "cell_type": "code",
      "source": [
        "in_lecithin = data[data[\"Ingredients\"].str.contains(\"L\", na=False)]\n",
        "non_lecithin = data[~data[\"Ingredients\"].str.contains(\"L\", na=False)]\n",
        "\n",
        "inLecithin_rating = in_lecithin[\"Rating\"].mean()\n",
        "nonLecithin_rating = non_lecithin[\"Rating\"].mean()\n",
        "\n",
        "print(inLecithin_rating)\n",
        "print(nonLecithin_rating)"
      ],
      "metadata": {
        "colab": {
          "base_uri": "https://localhost:8080/"
        },
        "id": "qxR9Gr4sYZzU",
        "outputId": "55006e44-0213-4f15-d66a-8d1fde787690"
      },
      "execution_count": 16,
      "outputs": [
        {
          "output_type": "stream",
          "name": "stdout",
          "text": [
            "3.152\n",
            "3.2094277673545966\n"
          ]
        }
      ]
    },
    {
      "cell_type": "markdown",
      "source": [
        "Lesitin içermeyen barların ortalama puanı daha yüksek olduğu görülmüştür."
      ],
      "metadata": {
        "id": "t7-LsIRPjPsc"
      }
    },
    {
      "cell_type": "markdown",
      "source": [
        "9. Ortalama reytingi en yüksek ve en düşük çekirdek orijini olan ülkeler hangileridir?"
      ],
      "metadata": {
        "id": "X9_Skvl-j1IJ"
      }
    },
    {
      "cell_type": "code",
      "source": [
        "ratingmax_bean = data.groupby(\"Country of Bean Origin\").mean(numeric_only=True)[\"Rating\"].sort_values(ascending=False).head()\n",
        "ratingmax_bean"
      ],
      "metadata": {
        "colab": {
          "base_uri": "https://localhost:8080/"
        },
        "id": "mctHTxGNbmeL",
        "outputId": "8162f734-7e38-4144-ef31-7495b8f2404a"
      },
      "execution_count": 21,
      "outputs": [
        {
          "output_type": "execute_result",
          "data": {
            "text/plain": [
              "Country of Bean Origin\n",
              "Hawai'i                3.750\n",
              "Tobago                 3.625\n",
              "China                  3.500\n",
              "Sao Tome & Principe    3.500\n",
              "Solomon Islands        3.450\n",
              "Name: Rating, dtype: float64"
            ]
          },
          "metadata": {},
          "execution_count": 21
        }
      ]
    },
    {
      "cell_type": "code",
      "source": [
        "ratingmin_bean = data.groupby(\"Country of Bean Origin\").mean(numeric_only=True)[\"Rating\"].sort_values(ascending=False).tail()\n",
        "ratingmin_bean"
      ],
      "metadata": {
        "colab": {
          "base_uri": "https://localhost:8080/"
        },
        "id": "WO6AGjQVbwFN",
        "outputId": "54e4cb9c-ccb0-4aaf-f9d9-5c1c00714a7e"
      },
      "execution_count": 22,
      "outputs": [
        {
          "output_type": "execute_result",
          "data": {
            "text/plain": [
              "Country of Bean Origin\n",
              "St.Vincent-Grenadines    2.750000\n",
              "Sierra Leone             2.750000\n",
              "Principe                 2.750000\n",
              "Puerto Rico              2.714286\n",
              "Bali                     2.500000\n",
              "Name: Rating, dtype: float64"
            ]
          },
          "metadata": {},
          "execution_count": 22
        }
      ]
    },
    {
      "cell_type": "markdown",
      "source": [
        "10. Bulgularınızı özetleyin."
      ],
      "metadata": {
        "id": "j-tJMuzmc_Vn"
      }
    },
    {
      "cell_type": "markdown",
      "source": [
        "Bu verisetine göre Kakao çekirdeklerinin en çok geldiği 3 ülke Venezuela, Peru, Dominik Cumhuriyeti olduğu görülmüştür. Kakao içeriği en fazla olan ve ortalama puanı en yüksek olan Belize, Bolivia, Colombia'dır. Bu bulduğumuz üç ülkenin kakao çekirdeklerine daha kaliteli diyebiliriz. Orta Amerika, Güney Amerika ve çevresinde olan adalardan gelen kakao çekirdekleri genellikle yüksek puana sahip olduğunu söyleyebiliriz. En fazla 284 ile 2015 yılında, en az ise 62 ile 2006 yılında inceleme yapıldığı görülmüştür. Bu incelemelerde ise içerisinde lesitin içeren barların ortalama puanı lesitin içermeyen ortalama puanından düşük olduğu tespit edilmiş dolayısıyla kullanıcıların çoğunlukla lesitin içermeyen çikolata barlarına daha yüksek puanlamalar yaptığını söyleyebiliriz."
      ],
      "metadata": {
        "id": "YXp3GzmrdEOZ"
      }
    },
    {
      "cell_type": "code",
      "source": [],
      "metadata": {
        "id": "W8hfuEVaOyBW"
      },
      "execution_count": null,
      "outputs": []
    }
  ]
}